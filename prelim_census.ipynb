{
 "cells": [
  {
   "cell_type": "code",
   "execution_count": 2,
   "metadata": {
    "collapsed": true
   },
   "outputs": [],
   "source": [
    "%matplotlib inline\n",
    "import matplotlib\n",
    "import seaborn as sns\n",
    "import pylab as pl\n",
    "matplotlib.rcParams['savefig.dpi'] = 2 * matplotlib.rcParams['savefig.dpi']\n",
    "import requests\n",
    "from requests_futures.sessions import FuturesSession\n",
    "from bs4 import BeautifulSoup\n",
    "import re\n",
    "import urllib \n",
    "import zipfile\n",
    "import os\n",
    "import sys\n",
    "import pandas as pd\n",
    "from bokeh.sampledata import us_states, us_counties, unemployment\n",
    "from bokeh.plotting import figure, show, output_file"
   ]
  },
  {
   "cell_type": "code",
   "execution_count": 3,
   "metadata": {
    "collapsed": false
   },
   "outputs": [],
   "source": [
    "import sys\n",
    "sys.path.append('/usr/local/lib/python2.7/dist-packages') \n",
    "import vincent"
   ]
  },
  {
   "cell_type": "code",
   "execution_count": 4,
   "metadata": {
    "collapsed": false
   },
   "outputs": [
    {
     "ename": "SyntaxError",
     "evalue": "invalid syntax (<ipython-input-4-07bc6542738e>, line 3)",
     "output_type": "error",
     "traceback": [
      "\u001b[1;36m  File \u001b[1;32m\"<ipython-input-4-07bc6542738e>\"\u001b[1;36m, line \u001b[1;32m3\u001b[0m\n\u001b[1;33m    http://api.census.gov/data/bds/firms?get=ifsize,fsize,fage4,estabs&for=metropolitan+statistical+area:*&time=2012&sic1=0&key=77912556e5965544a3093efa3cb2305807fbe56c\u001b[0m\n\u001b[1;37m        ^\u001b[0m\n\u001b[1;31mSyntaxError\u001b[0m\u001b[1;31m:\u001b[0m invalid syntax\n"
     ]
    }
   ],
   "source": [
    "url='http://api.census.gov/data/bds/firms?get=estabs,metro,sic1,fage4,fsize,ifsize&for=state:01&year2='+\\\n",
    "'2012&key=77912556e5965544a3093efa3cb2305807fbe56c'\n",
    "\n",
    "http://api.census.gov/data/bds/firms?get=ifsize,fsize,fage4,estabs&for=metropolitan+statistical+area:*&time=2012&sic1=0&key=77912556e5965544a3093efa3cb2305807fbe56c"
   ]
  },
  {
   "cell_type": "markdown",
   "metadata": {
    "collapsed": true
   },
   "source": [
    "http://api.census.gov/data/2015/pdb/tract?get=County_name,State_name,Tot_Population_CEN_2010,Aggregate_HH_INC_ACS_09_13,Med_HHD_Inc_ACS_09_13,Med_House_value_ACS_09_13&for=tract:*&in=state:01\n",
    "http://api.census.gov/data/2015/pdb/tract/variables.html\n",
    "\n",
    "http://api.census.gov/data/2012/ewks?get=EMP,OPTAX&for=state:01&NAICS2012=*&key=77912556e5965544a3093efa3cb2305807fbe56c                \n",
    "http://api.census.gov/data/2012/ewks/variables.html                \n",
    "                "
   ]
  },
  {
   "cell_type": "code",
   "execution_count": 8,
   "metadata": {
    "collapsed": false
   },
   "outputs": [],
   "source": [
    "#planning example call: http://api.census.gov/data/2015/pdb/blockgroup?get=County_name,State_name,Tot_Population_CEN_2010&for=block+group:*&in=state:01+county:001\n",
    "urls=[]\n",
    "\n",
    "# half the data of interest\n",
    "#http://api.census.gov/data/2015/pdb/tract?get=County_name,State_name,County,LAND_AREA,Med_House_Value_ACS_09_13,Tot_Population_ACS_09_13,pct_Pop_18_24_ACS_09_13,pct_Pop_25_44_ACS_09_13&for tract:*state:01\n",
    "urls.append('http://api.census.gov/data/2015/pdb/tract?get=County_name,State_name,County,LAND_AREA,Tot_Population_ACS_09_13,pct_Pop_18_24_ACS_09_13,pct_Pop_25_44_ACS_09_13,Med_House_value_ACS_09_13&for=tract:*&in=state:01')\n",
    "\n",
    "# other half\n",
    "#http://api.census.gov/data/2015/pdb/tract?get=County_name,State_name,County,Tot_Occp_Units_ACS_09_13,Renter_Occp_HU_ACS_09_13,URBAN_CLUSTER_POP_CEN_2010,URBANIZED_AREA_POP_CEN_2010&for tract:*state:01\n",
    "urls.append('http://api.census.gov/data/2015/pdb/tract?get=County_name,State_name,County,Tot_Occp_Units_ACS_09_13,Renter_Occp_HU_ACS_09_13,URBAN_CLUSTER_POP_CEN_2010,URBANIZED_AREA_POP_CEN_2010&for=tract:*&in=state:01')\n",
    "\n",
    "session = FuturesSession(max_workers=15)\n",
    "\n",
    "#Send multiple requests at once\n",
    "future1 = session.get(urls[0])\n",
    "future2 = session.get(urls[1]) "
   ]
  },
  {
   "cell_type": "code",
   "execution_count": 9,
   "metadata": {
    "collapsed": false
   },
   "outputs": [
    {
     "name": "stdout",
     "output_type": "stream",
     "text": [
      "http://api.census.gov/data/2015/pdb/tract?get=County_name,State_name,County,LAND_AREA,Tot_Population_ACS_09_13,pct_Pop_18_24_ACS_09_13,pct_Pop_25_44_ACS_09_13,Med_House_value_ACS_09_13&for=tract:*&in=state:01\n",
      "[[\"County_name\",\"State_name\",\"County\",\"LAND_AREA\",\"Tot_Population_ACS_09_13\",\"pct_Pop_18_24_ACS_09_13\",\"pct_Pop_25_44_ACS_09_13\",\"Med_House_value_ACS_09_13\",\"state\",\"county\",\"tract\"],\n",
      "[\"Autauga County\",\"Alabama\",\"001\",\"3.788\",\"1808\",\"11.946902655\",\"26.161504425\",\"$124,800\",\"01\",\"001\",\"020100\"],\n",
      "[\"Autauga County\",\"Alabama\",\"001\",\"1.29\",\"2355\",\"15.711252654\",\"30.106157113\",\"$129,200\",\"01\",\"001\",\"020200\"],\n",
      "[\"Autauga County\",\"Alabama\",\"001\",\"2.065\",\"3057\",\"8.1125286228\",\"25.482499182\",\"$113,800\",\"01\n"
     ]
    }
   ],
   "source": [
    "response1=future1.result()\n",
    "print response1.url\n",
    "print response1.text[0:500]"
   ]
  },
  {
   "cell_type": "code",
   "execution_count": null,
   "metadata": {
    "collapsed": true
   },
   "outputs": [],
   "source": [
    "stateDF_list=[]\n",
    "for state_response in state_responses:\n",
    "    if 'Results' in state_response.json().keys():\n",
    "        stateDF_list.append(pd.DataFrame(state_response.json()['Results']))"
   ]
  }
 ],
 "metadata": {
  "kernelspec": {
   "display_name": "Python 2",
   "language": "python",
   "name": "python2"
  },
  "language_info": {
   "codemirror_mode": {
    "name": "ipython",
    "version": 2
   },
   "file_extension": ".py",
   "mimetype": "text/x-python",
   "name": "python",
   "nbconvert_exporter": "python",
   "pygments_lexer": "ipython2",
   "version": "2.7.10"
  }
 },
 "nbformat": 4,
 "nbformat_minor": 0
}
