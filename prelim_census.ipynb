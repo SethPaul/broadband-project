{
 "cells": [
  {
   "cell_type": "code",
   "execution_count": 7,
   "metadata": {
    "collapsed": true
   },
   "outputs": [],
   "source": [
    "%matplotlib inline\n",
    "import matplotlib\n",
    "import seaborn as sns\n",
    "import pylab as pl\n",
    "matplotlib.rcParams['savefig.dpi'] = 2 * matplotlib.rcParams['savefig.dpi']\n",
    "import requests\n",
    "from requests_futures.sessions import FuturesSession\n",
    "from bs4 import BeautifulSoup\n",
    "import re\n",
    "import urllib \n",
    "import zipfile\n",
    "import os\n",
    "import sys\n",
    "import pandas as pd\n",
    "from bokeh.sampledata import us_states, us_counties, unemployment\n",
    "from bokeh.plotting import figure, show, output_file"
   ]
  },
  {
   "cell_type": "code",
   "execution_count": 8,
   "metadata": {
    "collapsed": false
   },
   "outputs": [],
   "source": [
    "import sys\n",
    "sys.path.append('/usr/local/lib/python2.7/dist-packages') \n",
    "import vincent"
   ]
  },
  {
   "cell_type": "code",
   "execution_count": 12,
   "metadata": {
    "collapsed": false
   },
   "outputs": [],
   "source": [
    "url='http://api.census.gov/data/bds/firms?get=estabs,metro,sic1,fage4,fsize,ifsize&for=state:01&year2='+\\\n",
    "'2012&key=77912556e5965544a3093efa3cb2305807fbe56c'\n",
    "\n",
    "http://api.census.gov/data/bds/firms?get=ifsize,fsize,fage4,estabs&for=metropolitan+statistical+area:*&time=2012&sic1=0&key=77912556e5965544a3093efa3cb2305807fbe56c"
   ]
  },
  {
   "cell_type": "code",
   "execution_count": null,
   "metadata": {
    "collapsed": true
   },
   "outputs": [],
   "source": [
    "http://api.census.gov/data/2015/pdb/tract?get=County_name,State_name,Tot_Population_CEN_2010,Aggregate_HH_INC_ACS_09_13,Med_HHD_Inc_ACS_09_13,Med_House_value_ACS_09_13&for=tract:*&in=state:01\n",
    "http://api.census.gov/data/2015/pdb/tract/variables.html\n",
    "\n",
    "http://api.census.gov/data/2012/ewks?get=EMP,OPTAX&for=state:01&NAICS2012=*&key=77912556e5965544a3093efa3cb2305807fbe56c                \n",
    "http://api.census.gov/data/2012/ewks/variables.html                \n",
    "                "
   ]
  }
 ],
 "metadata": {
  "kernelspec": {
   "display_name": "Python 2",
   "language": "python",
   "name": "python2"
  },
  "language_info": {
   "codemirror_mode": {
    "name": "ipython",
    "version": 2
   },
   "file_extension": ".py",
   "mimetype": "text/x-python",
   "name": "python",
   "nbconvert_exporter": "python",
   "pygments_lexer": "ipython2",
   "version": "2.7.10"
  }
 },
 "nbformat": 4,
 "nbformat_minor": 0
}
