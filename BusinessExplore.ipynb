{
 "cells": [
  {
   "cell_type": "code",
   "execution_count": 1,
   "metadata": {
    "collapsed": true
   },
   "outputs": [],
   "source": [
    "%matplotlib inline\n",
    "import matplotlib\n",
    "import seaborn as sns\n",
    "import pylab as pl\n",
    "matplotlib.rcParams['savefig.dpi'] = 2 * matplotlib.rcParams['savefig.dpi']\n",
    "import requests\n",
    "from requests_futures.sessions import FuturesSession\n",
    "from bs4 import BeautifulSoup\n",
    "import re\n",
    "import urllib \n",
    "import os\n",
    "import sys\n",
    "import pandas as pd\n",
    "sys.path.append('/usr/local/lib/python2.7/dist-packages') \n",
    "import vincent"
   ]
  },
  {
   "cell_type": "code",
   "execution_count": 2,
   "metadata": {
    "collapsed": true
   },
   "outputs": [],
   "source": [
    "os.chdir('/home/seth/workspace_Unix/dataIncub/bbp/')"
   ]
  },
  {
   "cell_type": "code",
   "execution_count": 3,
   "metadata": {
    "collapsed": false
   },
   "outputs": [
    {
     "data": {
      "text/html": [
       "<div>\n",
       "<table border=\"1\" class=\"dataframe\">\n",
       "  <thead>\n",
       "    <tr style=\"text-align: right;\">\n",
       "      <th></th>\n",
       "      <th>NAICS_2digit</th>\n",
       "      <th>Industry_Group</th>\n",
       "    </tr>\n",
       "  </thead>\n",
       "  <tbody>\n",
       "    <tr>\n",
       "      <th>0</th>\n",
       "      <td>11</td>\n",
       "      <td>Agriculture, Forestry, Fishing and Hunting</td>\n",
       "    </tr>\n",
       "    <tr>\n",
       "      <th>1</th>\n",
       "      <td>21</td>\n",
       "      <td>Mining, Quarrying, and Oil and Gas Extraction</td>\n",
       "    </tr>\n",
       "    <tr>\n",
       "      <th>2</th>\n",
       "      <td>22</td>\n",
       "      <td>Utilities</td>\n",
       "    </tr>\n",
       "    <tr>\n",
       "      <th>3</th>\n",
       "      <td>23</td>\n",
       "      <td>Construction</td>\n",
       "    </tr>\n",
       "    <tr>\n",
       "      <th>4</th>\n",
       "      <td>31</td>\n",
       "      <td>Manufacturing</td>\n",
       "    </tr>\n",
       "    <tr>\n",
       "      <th>5</th>\n",
       "      <td>32</td>\n",
       "      <td>Manufacturing</td>\n",
       "    </tr>\n",
       "    <tr>\n",
       "      <th>6</th>\n",
       "      <td>33</td>\n",
       "      <td>Manufacturing</td>\n",
       "    </tr>\n",
       "    <tr>\n",
       "      <th>7</th>\n",
       "      <td>42</td>\n",
       "      <td>Wholesale Trade</td>\n",
       "    </tr>\n",
       "    <tr>\n",
       "      <th>8</th>\n",
       "      <td>44</td>\n",
       "      <td>Retail Trade</td>\n",
       "    </tr>\n",
       "    <tr>\n",
       "      <th>9</th>\n",
       "      <td>45</td>\n",
       "      <td>Retail Trade</td>\n",
       "    </tr>\n",
       "    <tr>\n",
       "      <th>10</th>\n",
       "      <td>48</td>\n",
       "      <td>Transportation and Warehousing</td>\n",
       "    </tr>\n",
       "    <tr>\n",
       "      <th>11</th>\n",
       "      <td>49</td>\n",
       "      <td>Transportation and Warehousing</td>\n",
       "    </tr>\n",
       "    <tr>\n",
       "      <th>12</th>\n",
       "      <td>51</td>\n",
       "      <td>Information</td>\n",
       "    </tr>\n",
       "    <tr>\n",
       "      <th>13</th>\n",
       "      <td>52</td>\n",
       "      <td>Finance and Insurance</td>\n",
       "    </tr>\n",
       "    <tr>\n",
       "      <th>14</th>\n",
       "      <td>53</td>\n",
       "      <td>Real Estate and Rental and Leasing</td>\n",
       "    </tr>\n",
       "    <tr>\n",
       "      <th>15</th>\n",
       "      <td>54</td>\n",
       "      <td>Professional, Scientific, and Technical Se...</td>\n",
       "    </tr>\n",
       "    <tr>\n",
       "      <th>16</th>\n",
       "      <td>55</td>\n",
       "      <td>Management of Companies and Enterprises</td>\n",
       "    </tr>\n",
       "    <tr>\n",
       "      <th>17</th>\n",
       "      <td>56</td>\n",
       "      <td>Administrative and Support and Waste Manag...</td>\n",
       "    </tr>\n",
       "    <tr>\n",
       "      <th>18</th>\n",
       "      <td>61</td>\n",
       "      <td>Educational Services</td>\n",
       "    </tr>\n",
       "    <tr>\n",
       "      <th>19</th>\n",
       "      <td>62</td>\n",
       "      <td>Health Care and Social Assistance</td>\n",
       "    </tr>\n",
       "    <tr>\n",
       "      <th>20</th>\n",
       "      <td>71</td>\n",
       "      <td>Arts, Entertainment, and Recreation</td>\n",
       "    </tr>\n",
       "    <tr>\n",
       "      <th>21</th>\n",
       "      <td>72</td>\n",
       "      <td>Accommodation and Food Services</td>\n",
       "    </tr>\n",
       "    <tr>\n",
       "      <th>22</th>\n",
       "      <td>81</td>\n",
       "      <td>Other Services (except Public Administration)</td>\n",
       "    </tr>\n",
       "    <tr>\n",
       "      <th>23</th>\n",
       "      <td>92</td>\n",
       "      <td>Public Administration</td>\n",
       "    </tr>\n",
       "  </tbody>\n",
       "</table>\n",
       "</div>"
      ],
      "text/plain": [
       "   NAICS_2digit                                     Industry_Group\n",
       "0            11         Agriculture, Forestry, Fishing and Hunting\n",
       "1            21      Mining, Quarrying, and Oil and Gas Extraction\n",
       "2            22                                          Utilities\n",
       "3            23                                       Construction\n",
       "4            31                                      Manufacturing\n",
       "5            32                                      Manufacturing\n",
       "6            33                                      Manufacturing\n",
       "7            42                                    Wholesale Trade\n",
       "8            44                                       Retail Trade\n",
       "9            45                                       Retail Trade\n",
       "10           48                     Transportation and Warehousing\n",
       "11           49                     Transportation and Warehousing\n",
       "12           51                                        Information\n",
       "13           52                              Finance and Insurance\n",
       "14           53                 Real Estate and Rental and Leasing\n",
       "15           54      Professional, Scientific, and Technical Se...\n",
       "16           55            Management of Companies and Enterprises\n",
       "17           56      Administrative and Support and Waste Manag...\n",
       "18           61                               Educational Services\n",
       "19           62                  Health Care and Social Assistance\n",
       "20           71                Arts, Entertainment, and Recreation\n",
       "21           72                    Accommodation and Food Services\n",
       "22           81      Other Services (except Public Administration)\n",
       "23           92                              Public Administration"
      ]
     },
     "execution_count": 3,
     "metadata": {},
     "output_type": "execute_result"
    }
   ],
   "source": [
    "industry_codes_2digit=pd.read_table('/home/seth/workspace_Unix/dataIncub/bbp/refs/NAICS_2digit.txt',index_col=False, sep=';')\n",
    "industry_codes_2digit['NAICS_2digit']=industry_codes_2digit['NAICS_2digit'].astype(str)\n",
    "industry_codes_2digit"
   ]
  },
  {
   "cell_type": "code",
   "execution_count": 4,
   "metadata": {
    "collapsed": false
   },
   "outputs": [
    {
     "name": "stdout",
     "output_type": "stream",
     "text": [
      "(1066, 2)\n"
     ]
    },
    {
     "data": {
      "text/html": [
       "<div>\n",
       "<table border=\"1\" class=\"dataframe\">\n",
       "  <thead>\n",
       "    <tr style=\"text-align: right;\">\n",
       "      <th></th>\n",
       "      <th>NAICS2012</th>\n",
       "      <th>Industry_Desc</th>\n",
       "    </tr>\n",
       "  </thead>\n",
       "  <tbody>\n",
       "    <tr>\n",
       "      <th>1</th>\n",
       "      <td>111110</td>\n",
       "      <td>Soybean Farming</td>\n",
       "    </tr>\n",
       "    <tr>\n",
       "      <th>2</th>\n",
       "      <td>111120</td>\n",
       "      <td>Oilseed (except Soybean) Farming</td>\n",
       "    </tr>\n",
       "    <tr>\n",
       "      <th>3</th>\n",
       "      <td>111130</td>\n",
       "      <td>Dry Pea and Bean Farming</td>\n",
       "    </tr>\n",
       "    <tr>\n",
       "      <th>4</th>\n",
       "      <td>111140</td>\n",
       "      <td>Wheat Farming</td>\n",
       "    </tr>\n",
       "    <tr>\n",
       "      <th>5</th>\n",
       "      <td>111150</td>\n",
       "      <td>Corn Farming</td>\n",
       "    </tr>\n",
       "  </tbody>\n",
       "</table>\n",
       "</div>"
      ],
      "text/plain": [
       "  NAICS2012                      Industry_Desc\n",
       "1    111110                    Soybean Farming\n",
       "2    111120  Oilseed (except Soybean) Farming \n",
       "3    111130          Dry Pea and Bean Farming \n",
       "4    111140                      Wheat Farming\n",
       "5    111150                      Corn Farming "
      ]
     },
     "execution_count": 4,
     "metadata": {},
     "output_type": "execute_result"
    }
   ],
   "source": [
    "industry_codes=pd.read_excel('/home/seth/workspace_Unix/dataIncub/bbp/refs/6-digit_2012_Codes.xls',sheetname='2012_6-digit_industries',index_col=False, sep=';')\n",
    "print industry_codes.shape\n",
    "industry_codes.columns=['NAICS2012','Industry_Desc']\n",
    "industry_codes=industry_codes.drop(industry_codes.index[0]) #remove empty row\n",
    "industry_codes['NAICS2012']=industry_codes['NAICS2012'].astype(int).astype(str)\n",
    "industry_codes.head()"
   ]
  },
  {
   "cell_type": "code",
   "execution_count": 5,
   "metadata": {
    "collapsed": false
   },
   "outputs": [
    {
     "data": {
      "text/html": [
       "<div>\n",
       "<table border=\"1\" class=\"dataframe\">\n",
       "  <thead>\n",
       "    <tr style=\"text-align: right;\">\n",
       "      <th></th>\n",
       "      <th>state_abbrev</th>\n",
       "      <th>state_fp</th>\n",
       "      <th>county_fp</th>\n",
       "      <th>countyName</th>\n",
       "      <th>fp_class_code</th>\n",
       "      <th>state_county_code</th>\n",
       "      <th>st_county_id_str</th>\n",
       "    </tr>\n",
       "  </thead>\n",
       "  <tbody>\n",
       "    <tr>\n",
       "      <th>0</th>\n",
       "      <td>AL</td>\n",
       "      <td>1</td>\n",
       "      <td>1</td>\n",
       "      <td>Autauga County</td>\n",
       "      <td>H1</td>\n",
       "      <td>1001</td>\n",
       "      <td>01001</td>\n",
       "    </tr>\n",
       "    <tr>\n",
       "      <th>1</th>\n",
       "      <td>AL</td>\n",
       "      <td>1</td>\n",
       "      <td>3</td>\n",
       "      <td>Baldwin County</td>\n",
       "      <td>H1</td>\n",
       "      <td>1003</td>\n",
       "      <td>01003</td>\n",
       "    </tr>\n",
       "    <tr>\n",
       "      <th>2</th>\n",
       "      <td>AL</td>\n",
       "      <td>1</td>\n",
       "      <td>5</td>\n",
       "      <td>Barbour County</td>\n",
       "      <td>H1</td>\n",
       "      <td>1005</td>\n",
       "      <td>01005</td>\n",
       "    </tr>\n",
       "    <tr>\n",
       "      <th>3</th>\n",
       "      <td>AL</td>\n",
       "      <td>1</td>\n",
       "      <td>7</td>\n",
       "      <td>Bibb County</td>\n",
       "      <td>H1</td>\n",
       "      <td>1007</td>\n",
       "      <td>01007</td>\n",
       "    </tr>\n",
       "    <tr>\n",
       "      <th>4</th>\n",
       "      <td>AL</td>\n",
       "      <td>1</td>\n",
       "      <td>9</td>\n",
       "      <td>Blount County</td>\n",
       "      <td>H1</td>\n",
       "      <td>1009</td>\n",
       "      <td>01009</td>\n",
       "    </tr>\n",
       "  </tbody>\n",
       "</table>\n",
       "</div>"
      ],
      "text/plain": [
       "  state_abbrev  state_fp  county_fp      countyName fp_class_code  \\\n",
       "0           AL         1          1  Autauga County            H1   \n",
       "1           AL         1          3  Baldwin County            H1   \n",
       "2           AL         1          5  Barbour County            H1   \n",
       "3           AL         1          7     Bibb County            H1   \n",
       "4           AL         1          9   Blount County            H1   \n",
       "\n",
       "   state_county_code st_county_id_str  \n",
       "0               1001            01001  \n",
       "1               1003            01003  \n",
       "2               1005            01005  \n",
       "3               1007            01007  \n",
       "4               1009            01009  "
      ]
     },
     "execution_count": 5,
     "metadata": {},
     "output_type": "execute_result"
    }
   ],
   "source": [
    "##Get County FIPS IDs\n",
    "county_fips_url='http://www2.census.gov/geo/docs/reference/codes/files/national_county.txt'\n",
    "county_fips=pd.read_table(county_fips_url, sep=',', header=None, names=['state_abbrev','state_fp', 'county_fp', 'countyName', 'fp_class_code'])\n",
    "county_fips['state_county_code']=county_fips['state_fp']*1000+county_fips['county_fp']\n",
    "county_fips['st_county_id_str']=county_fips['state_county_code'].map(\"{:05}\".format)\n",
    "county_fips.head()"
   ]
  },
  {
   "cell_type": "code",
   "execution_count": 6,
   "metadata": {
    "collapsed": false
   },
   "outputs": [],
   "source": [
    "#econ example call: http://api.census.gov/data/2012/ewks?get=ST,COUNTY,EMP,RCPTOT,PAYANN,ESTAB,NAICS2012,OPTAX&for=state:*&NAICS2012=54&key=77912556e5965544a3093efa3cb2305807fbe56c\n",
    "url='http://api.census.gov/data/2012/ewks?get=ST,COUNTY,NAICS2012,EMP,RCPTOT,PAYANN,ESTAB,OPTAX&for=county:*&&NAICS2012=31-33&key=77912556e5965544a3093efa3cb2305807fbe56c'\n",
    "session = FuturesSession(max_workers=15)\n",
    "\n",
    "# multiple resolutions available:state, county, censusplace, msa, usf, statesenate, statehouse, congdistrict, tribalnation.\n",
    "# print counties_stringsDF.head(1)\n",
    "# urls=(base_url+counties_stringsDF+'?format=json').tolist()\n",
    "\n",
    "#Send multiple requests at once\n",
    "futures = session.get(url) \n",
    "state_response = futures.result()"
   ]
  },
  {
   "cell_type": "code",
   "execution_count": 7,
   "metadata": {
    "collapsed": false
   },
   "outputs": [
    {
     "name": "stdout",
     "output_type": "stream",
     "text": [
      "http://api.census.gov/data/2012/ewks?get=ST,COUNTY,NAICS2012,EMP,RCPTOT,PAYANN,ESTAB,OPTAX&for=county:*&&NAICS2012=31-33&key=77912556e5965544a3093efa3cb2305807fbe56c\n",
      ",\"31-33\",\"72\",\"145\"],\n",
      "[\"72\",\"147\",\"31-33\",\"0\",\"0\",\"0\",\"2\",\"99\",\"31-33\",\"72\",\"147\"],\n",
      "[\"72\",\"149\",\"31-33\",\"0\",\"0\",\"0\",\"3\",\"99\",\"31-33\",\"72\",\"149\"],\n",
      "[\"72\",\"151\",\"31-33\",\"252\",\"18462\",\"3835\",\"8\",\"99\",\"31-33\",\"72\",\"151\"],\n",
      "[\"72\",\"153\",\"31-33\",\"543\",\"69765\",\"12873\",\"15\",\"99\",\"31-33\",\"72\",\"153\"],\n",
      "[\"78\",\"10\",\"31-33\",\"1718\",\"1902390\",\"156707\",\"33\",\"99\",\"31-33\",\"78\",\"10\"],\n",
      "[\"78\",\"20\",\"31-33\",\"0\",\"1273\",\"226\",\"4\",\"99\",\"31-33\",\"78\",\"20\"],\n",
      "[\"78\",\"30\",\"31-33\",\"248\",\"58976\",\"10974\",\"20\",\"99\",\"31-33\",\"78\",\"30\"]]\n"
     ]
    }
   ],
   "source": [
    "print state_response.url\n",
    "print state_response.text[-500:]"
   ]
  },
  {
   "cell_type": "code",
   "execution_count": 8,
   "metadata": {
    "collapsed": false
   },
   "outputs": [],
   "source": [
    "column_names=re.split(',', 'CSA,ST,COUNTY,NAICS2012,EMP,RCPTOT,PAYANN,ESTAB,OPTAX')\n",
    "base_url='http://api.census.gov/data/2012/ewks?get=CSA,ST,COUNTY,NAICS2012,EMP,RCPTOT,PAYANN,ESTAB,OPTAX&for=county:*&&NAICS2012='\n",
    "and_key='&key=77912556e5965544a3093efa3cb2305807fbe56c'\n",
    "session = FuturesSession(max_workers=15)\n",
    "urls=[]\n",
    "for industry in industry_codes['NAICS2012']:\n",
    "    urls.append(base_url+industry.strip()+and_key)\n",
    "#     print base_url+industry+and_key\n",
    "    \n",
    "#Send multiple requests at once\n",
    "futures = [session.get(url) for url in urls]\n",
    "industry_responses = [future.result() for future in futures]"
   ]
  },
  {
   "cell_type": "code",
   "execution_count": 9,
   "metadata": {
    "collapsed": true
   },
   "outputs": [],
   "source": [
    "import pickle"
   ]
  },
  {
   "cell_type": "code",
   "execution_count": 10,
   "metadata": {
    "collapsed": false
   },
   "outputs": [],
   "source": [
    "output = open('industry_responses.pkl', 'wb')\n",
    "pickle.dump(industry_responses, output)\n",
    "output.close()"
   ]
  },
  {
   "cell_type": "code",
   "execution_count": 11,
   "metadata": {
    "collapsed": true
   },
   "outputs": [],
   "source": [
    "from StringIO import StringIO as strIO "
   ]
  },
  {
   "cell_type": "code",
   "execution_count": 54,
   "metadata": {
    "collapsed": false
   },
   "outputs": [],
   "source": [
    "industryDFs=[]\n",
    "for industry_response in industry_responses:\n",
    "    try:\n",
    "        braces_removed=re.sub('\\[|]','',industry_response.text)\n",
    "        industryDFs.append(pd.read_csv(strIO(braces_removed), sep=\",\"))\n",
    "    except:\n",
    "        1 #print 'no data for an industry'\n",
    "\n",
    "industryDF=pd.concat(industryDFs)"
   ]
  },
  {
   "cell_type": "code",
   "execution_count": 56,
   "metadata": {
    "collapsed": false
   },
   "outputs": [
    {
     "data": {
      "text/plain": [
       "(360867, 13)"
      ]
     },
     "execution_count": 56,
     "metadata": {},
     "output_type": "execute_result"
    }
   ],
   "source": [
    "industryDF.shape"
   ]
  },
  {
   "cell_type": "code",
   "execution_count": 57,
   "metadata": {
    "collapsed": true
   },
   "outputs": [],
   "source": [
    "industryDF['NAICS2012']=industryDF['NAICS2012'].astype(str)"
   ]
  },
  {
   "cell_type": "code",
   "execution_count": 58,
   "metadata": {
    "collapsed": true
   },
   "outputs": [],
   "source": [
    "def pullfirst2chars(aString):\n",
    "    return aString[0:2]"
   ]
  },
  {
   "cell_type": "code",
   "execution_count": 59,
   "metadata": {
    "collapsed": false
   },
   "outputs": [
    {
     "data": {
      "text/plain": [
       "0    22\n",
       "1    22\n",
       "2    22\n",
       "3    22\n",
       "4    22\n",
       "Name: NAICS_2digit, dtype: object"
      ]
     },
     "execution_count": 59,
     "metadata": {},
     "output_type": "execute_result"
    }
   ],
   "source": [
    "industryDF['NAICS_2digit']=industryDF['NAICS2012'].apply(pullfirst2chars)\n",
    "industryDF['NAICS_2digit'].head()"
   ]
  },
  {
   "cell_type": "code",
   "execution_count": 60,
   "metadata": {
    "collapsed": false
   },
   "outputs": [
    {
     "data": {
      "text/plain": [
       "(360867, 15)"
      ]
     },
     "execution_count": 60,
     "metadata": {},
     "output_type": "execute_result"
    }
   ],
   "source": [
    "industryDF=pd.merge(industryDF, industry_codes, on='NAICS2012' )\n",
    "industryDF.shape"
   ]
  },
  {
   "cell_type": "code",
   "execution_count": 61,
   "metadata": {
    "collapsed": false,
    "scrolled": true
   },
   "outputs": [
    {
     "data": {
      "text/html": [
       "<div>\n",
       "<table border=\"1\" class=\"dataframe\">\n",
       "  <thead>\n",
       "    <tr style=\"text-align: right;\">\n",
       "      <th></th>\n",
       "      <th>CSA</th>\n",
       "      <th>ST</th>\n",
       "      <th>COUNTY</th>\n",
       "      <th>NAICS2012</th>\n",
       "      <th>EMP</th>\n",
       "      <th>RCPTOT</th>\n",
       "      <th>PAYANN</th>\n",
       "      <th>ESTAB</th>\n",
       "      <th>OPTAX</th>\n",
       "      <th>NAICS2012.1</th>\n",
       "      <th>state</th>\n",
       "      <th>county</th>\n",
       "      <th>Unnamed: 12</th>\n",
       "      <th>NAICS_2digit</th>\n",
       "      <th>Industry_Desc</th>\n",
       "      <th>Industry_Group</th>\n",
       "    </tr>\n",
       "  </thead>\n",
       "  <tbody>\n",
       "    <tr>\n",
       "      <th>360862</th>\n",
       "      <td>999</td>\n",
       "      <td>56</td>\n",
       "      <td>37</td>\n",
       "      <td>812990</td>\n",
       "      <td>0</td>\n",
       "      <td>0</td>\n",
       "      <td>0</td>\n",
       "      <td>1</td>\n",
       "      <td>T</td>\n",
       "      <td>812990</td>\n",
       "      <td>56</td>\n",
       "      <td>37</td>\n",
       "      <td>NaN</td>\n",
       "      <td>81</td>\n",
       "      <td>All Other Personal Services</td>\n",
       "      <td>Other Services (except Public Administration)</td>\n",
       "    </tr>\n",
       "    <tr>\n",
       "      <th>360863</th>\n",
       "      <td>999</td>\n",
       "      <td>56</td>\n",
       "      <td>39</td>\n",
       "      <td>812990</td>\n",
       "      <td>0</td>\n",
       "      <td>0</td>\n",
       "      <td>0</td>\n",
       "      <td>4</td>\n",
       "      <td>A</td>\n",
       "      <td>812990</td>\n",
       "      <td>56</td>\n",
       "      <td>39</td>\n",
       "      <td>NaN</td>\n",
       "      <td>81</td>\n",
       "      <td>All Other Personal Services</td>\n",
       "      <td>Other Services (except Public Administration)</td>\n",
       "    </tr>\n",
       "    <tr>\n",
       "      <th>360864</th>\n",
       "      <td>999</td>\n",
       "      <td>56</td>\n",
       "      <td>39</td>\n",
       "      <td>812990</td>\n",
       "      <td>0</td>\n",
       "      <td>0</td>\n",
       "      <td>0</td>\n",
       "      <td>4</td>\n",
       "      <td>T</td>\n",
       "      <td>812990</td>\n",
       "      <td>56</td>\n",
       "      <td>39</td>\n",
       "      <td>NaN</td>\n",
       "      <td>81</td>\n",
       "      <td>All Other Personal Services</td>\n",
       "      <td>Other Services (except Public Administration)</td>\n",
       "    </tr>\n",
       "    <tr>\n",
       "      <th>360865</th>\n",
       "      <td>999</td>\n",
       "      <td>56</td>\n",
       "      <td>41</td>\n",
       "      <td>812990</td>\n",
       "      <td>0</td>\n",
       "      <td>0</td>\n",
       "      <td>0</td>\n",
       "      <td>1</td>\n",
       "      <td>A</td>\n",
       "      <td>812990</td>\n",
       "      <td>56</td>\n",
       "      <td>41</td>\n",
       "      <td>NaN</td>\n",
       "      <td>81</td>\n",
       "      <td>All Other Personal Services</td>\n",
       "      <td>Other Services (except Public Administration)</td>\n",
       "    </tr>\n",
       "    <tr>\n",
       "      <th>360866</th>\n",
       "      <td>999</td>\n",
       "      <td>56</td>\n",
       "      <td>41</td>\n",
       "      <td>812990</td>\n",
       "      <td>0</td>\n",
       "      <td>0</td>\n",
       "      <td>0</td>\n",
       "      <td>1</td>\n",
       "      <td>T</td>\n",
       "      <td>812990</td>\n",
       "      <td>56</td>\n",
       "      <td>41</td>\n",
       "      <td>NaN</td>\n",
       "      <td>81</td>\n",
       "      <td>All Other Personal Services</td>\n",
       "      <td>Other Services (except Public Administration)</td>\n",
       "    </tr>\n",
       "  </tbody>\n",
       "</table>\n",
       "</div>"
      ],
      "text/plain": [
       "        CSA  ST  COUNTY NAICS2012  EMP  RCPTOT  PAYANN  ESTAB OPTAX  \\\n",
       "360862  999  56      37    812990    0       0       0      1     T   \n",
       "360863  999  56      39    812990    0       0       0      4     A   \n",
       "360864  999  56      39    812990    0       0       0      4     T   \n",
       "360865  999  56      41    812990    0       0       0      1     A   \n",
       "360866  999  56      41    812990    0       0       0      1     T   \n",
       "\n",
       "        NAICS2012.1  state  county  Unnamed: 12 NAICS_2digit  \\\n",
       "360862       812990     56      37          NaN           81   \n",
       "360863       812990     56      39          NaN           81   \n",
       "360864       812990     56      39          NaN           81   \n",
       "360865       812990     56      41          NaN           81   \n",
       "360866       812990     56      41          NaN           81   \n",
       "\n",
       "                       Industry_Desc  \\\n",
       "360862  All Other Personal Services    \n",
       "360863  All Other Personal Services    \n",
       "360864  All Other Personal Services    \n",
       "360865  All Other Personal Services    \n",
       "360866  All Other Personal Services    \n",
       "\n",
       "                                           Industry_Group  \n",
       "360862      Other Services (except Public Administration)  \n",
       "360863      Other Services (except Public Administration)  \n",
       "360864      Other Services (except Public Administration)  \n",
       "360865      Other Services (except Public Administration)  \n",
       "360866      Other Services (except Public Administration)  "
      ]
     },
     "execution_count": 61,
     "metadata": {},
     "output_type": "execute_result"
    }
   ],
   "source": [
    "industryDF=pd.merge(industryDF,industry_codes_2digit, on='NAICS_2digit')\n",
    "industryDF.tail()"
   ]
  },
  {
   "cell_type": "code",
   "execution_count": 62,
   "metadata": {
    "collapsed": false
   },
   "outputs": [
    {
     "data": {
      "text/plain": [
       "42    50336\n",
       "44    41338\n",
       "54    39540\n",
       "62    34368\n",
       "81    28322\n",
       "72    18392\n",
       "45    18260\n",
       "53    18111\n",
       "56    17649\n",
       "71    17509\n",
       "48    16475\n",
       "33    13113\n",
       "52    12413\n",
       "51     9300\n",
       "61     8171\n",
       "32     7110\n",
       "22     4146\n",
       "31     3364\n",
       "49     2950\n",
       "dtype: int64"
      ]
     },
     "execution_count": 62,
     "metadata": {},
     "output_type": "execute_result"
    }
   ],
   "source": [
    "industryDF.NAICS_2digit.value_counts()"
   ]
  },
  {
   "cell_type": "code",
   "execution_count": 63,
   "metadata": {
    "collapsed": false,
    "scrolled": true
   },
   "outputs": [
    {
     "data": {
      "text/plain": [
       "(360867, 16)"
      ]
     },
     "execution_count": 63,
     "metadata": {},
     "output_type": "execute_result"
    }
   ],
   "source": [
    "industryDF.shape"
   ]
  },
  {
   "cell_type": "code",
   "execution_count": 64,
   "metadata": {
    "collapsed": false
   },
   "outputs": [],
   "source": [
    "industryDF['state_county_code']= industryDF['ST']*1000+industryDF['COUNTY']\n",
    "industryDF=pd.merge(industryDF, county_fips, on='state_county_code' )\n",
    "by_ST=industryDF[['state_abbrev', 'EMP']].groupby('state_abbrev')"
   ]
  },
  {
   "cell_type": "code",
   "execution_count": 65,
   "metadata": {
    "collapsed": false
   },
   "outputs": [
    {
     "data": {
      "text/html": [
       "<div>\n",
       "<table border=\"1\" class=\"dataframe\">\n",
       "  <thead>\n",
       "    <tr style=\"text-align: right;\">\n",
       "      <th></th>\n",
       "      <th>CSA</th>\n",
       "      <th>ST</th>\n",
       "      <th>COUNTY</th>\n",
       "      <th>NAICS2012</th>\n",
       "      <th>EMP</th>\n",
       "      <th>RCPTOT</th>\n",
       "      <th>PAYANN</th>\n",
       "      <th>ESTAB</th>\n",
       "      <th>OPTAX</th>\n",
       "      <th>NAICS2012.1</th>\n",
       "      <th>...</th>\n",
       "      <th>NAICS_2digit</th>\n",
       "      <th>Industry_Desc</th>\n",
       "      <th>Industry_Group</th>\n",
       "      <th>state_county_code</th>\n",
       "      <th>state_abbrev</th>\n",
       "      <th>state_fp</th>\n",
       "      <th>county_fp</th>\n",
       "      <th>countyName</th>\n",
       "      <th>fp_class_code</th>\n",
       "      <th>st_county_id_str</th>\n",
       "    </tr>\n",
       "  </thead>\n",
       "  <tbody>\n",
       "    <tr>\n",
       "      <th>0</th>\n",
       "      <td>999</td>\n",
       "      <td>1</td>\n",
       "      <td>15</td>\n",
       "      <td>221111</td>\n",
       "      <td>0</td>\n",
       "      <td>0</td>\n",
       "      <td>0</td>\n",
       "      <td>1</td>\n",
       "      <td>99</td>\n",
       "      <td>221111</td>\n",
       "      <td>...</td>\n",
       "      <td>22</td>\n",
       "      <td>Hydroelectric Power Generation</td>\n",
       "      <td>Utilities</td>\n",
       "      <td>1015</td>\n",
       "      <td>AL</td>\n",
       "      <td>1</td>\n",
       "      <td>15</td>\n",
       "      <td>Calhoun County</td>\n",
       "      <td>H1</td>\n",
       "      <td>01015</td>\n",
       "    </tr>\n",
       "    <tr>\n",
       "      <th>1</th>\n",
       "      <td>999</td>\n",
       "      <td>1</td>\n",
       "      <td>15</td>\n",
       "      <td>221115</td>\n",
       "      <td>0</td>\n",
       "      <td>0</td>\n",
       "      <td>0</td>\n",
       "      <td>1</td>\n",
       "      <td>99</td>\n",
       "      <td>221115</td>\n",
       "      <td>...</td>\n",
       "      <td>22</td>\n",
       "      <td>Wind Electric Power Generation</td>\n",
       "      <td>Utilities</td>\n",
       "      <td>1015</td>\n",
       "      <td>AL</td>\n",
       "      <td>1</td>\n",
       "      <td>15</td>\n",
       "      <td>Calhoun County</td>\n",
       "      <td>H1</td>\n",
       "      <td>01015</td>\n",
       "    </tr>\n",
       "    <tr>\n",
       "      <th>2</th>\n",
       "      <td>999</td>\n",
       "      <td>1</td>\n",
       "      <td>15</td>\n",
       "      <td>221122</td>\n",
       "      <td>0</td>\n",
       "      <td>0</td>\n",
       "      <td>0</td>\n",
       "      <td>9</td>\n",
       "      <td>99</td>\n",
       "      <td>221122</td>\n",
       "      <td>...</td>\n",
       "      <td>22</td>\n",
       "      <td>Electric Power Distribution</td>\n",
       "      <td>Utilities</td>\n",
       "      <td>1015</td>\n",
       "      <td>AL</td>\n",
       "      <td>1</td>\n",
       "      <td>15</td>\n",
       "      <td>Calhoun County</td>\n",
       "      <td>H1</td>\n",
       "      <td>01015</td>\n",
       "    </tr>\n",
       "    <tr>\n",
       "      <th>3</th>\n",
       "      <td>999</td>\n",
       "      <td>1</td>\n",
       "      <td>15</td>\n",
       "      <td>221210</td>\n",
       "      <td>0</td>\n",
       "      <td>0</td>\n",
       "      <td>0</td>\n",
       "      <td>1</td>\n",
       "      <td>99</td>\n",
       "      <td>221210</td>\n",
       "      <td>...</td>\n",
       "      <td>22</td>\n",
       "      <td>Natural Gas Distribution</td>\n",
       "      <td>Utilities</td>\n",
       "      <td>1015</td>\n",
       "      <td>AL</td>\n",
       "      <td>1</td>\n",
       "      <td>15</td>\n",
       "      <td>Calhoun County</td>\n",
       "      <td>H1</td>\n",
       "      <td>01015</td>\n",
       "    </tr>\n",
       "    <tr>\n",
       "      <th>4</th>\n",
       "      <td>999</td>\n",
       "      <td>1</td>\n",
       "      <td>15</td>\n",
       "      <td>221310</td>\n",
       "      <td>0</td>\n",
       "      <td>0</td>\n",
       "      <td>0</td>\n",
       "      <td>1</td>\n",
       "      <td>99</td>\n",
       "      <td>221310</td>\n",
       "      <td>...</td>\n",
       "      <td>22</td>\n",
       "      <td>Water Supply and Irrigation Systems</td>\n",
       "      <td>Utilities</td>\n",
       "      <td>1015</td>\n",
       "      <td>AL</td>\n",
       "      <td>1</td>\n",
       "      <td>15</td>\n",
       "      <td>Calhoun County</td>\n",
       "      <td>H1</td>\n",
       "      <td>01015</td>\n",
       "    </tr>\n",
       "  </tbody>\n",
       "</table>\n",
       "<p>5 rows × 23 columns</p>\n",
       "</div>"
      ],
      "text/plain": [
       "   CSA  ST  COUNTY NAICS2012  EMP  RCPTOT  PAYANN  ESTAB OPTAX  NAICS2012.1  \\\n",
       "0  999   1      15    221111    0       0       0      1    99       221111   \n",
       "1  999   1      15    221115    0       0       0      1    99       221115   \n",
       "2  999   1      15    221122    0       0       0      9    99       221122   \n",
       "3  999   1      15    221210    0       0       0      1    99       221210   \n",
       "4  999   1      15    221310    0       0       0      1    99       221310   \n",
       "\n",
       "         ...         NAICS_2digit                         Industry_Desc  \\\n",
       "0        ...                   22       Hydroelectric Power Generation    \n",
       "1        ...                   22       Wind Electric Power Generation    \n",
       "2        ...                   22          Electric Power Distribution    \n",
       "3        ...                   22             Natural Gas Distribution    \n",
       "4        ...                   22  Water Supply and Irrigation Systems    \n",
       "\n",
       "   Industry_Group state_county_code state_abbrev state_fp  county_fp  \\\n",
       "0       Utilities              1015           AL        1         15   \n",
       "1       Utilities              1015           AL        1         15   \n",
       "2       Utilities              1015           AL        1         15   \n",
       "3       Utilities              1015           AL        1         15   \n",
       "4       Utilities              1015           AL        1         15   \n",
       "\n",
       "       countyName  fp_class_code  st_county_id_str  \n",
       "0  Calhoun County             H1             01015  \n",
       "1  Calhoun County             H1             01015  \n",
       "2  Calhoun County             H1             01015  \n",
       "3  Calhoun County             H1             01015  \n",
       "4  Calhoun County             H1             01015  \n",
       "\n",
       "[5 rows x 23 columns]"
      ]
     },
     "execution_count": 65,
     "metadata": {},
     "output_type": "execute_result"
    }
   ],
   "source": [
    "industryDF.head()"
   ]
  },
  {
   "cell_type": "code",
   "execution_count": 66,
   "metadata": {
    "collapsed": false
   },
   "outputs": [
    {
     "data": {
      "text/html": [
       "<div>\n",
       "<table border=\"1\" class=\"dataframe\">\n",
       "  <thead>\n",
       "    <tr style=\"text-align: right;\">\n",
       "      <th></th>\n",
       "      <th>CSA</th>\n",
       "      <th>ST</th>\n",
       "      <th>COUNTY</th>\n",
       "      <th>NAICS2012</th>\n",
       "      <th>EMP</th>\n",
       "      <th>RCPTOT</th>\n",
       "      <th>PAYANN</th>\n",
       "      <th>ESTAB</th>\n",
       "      <th>OPTAX</th>\n",
       "      <th>NAICS2012.1</th>\n",
       "      <th>...</th>\n",
       "      <th>Industry_Desc</th>\n",
       "      <th>Industry_Group</th>\n",
       "      <th>state_county_code</th>\n",
       "      <th>state_abbrev</th>\n",
       "      <th>state_fp</th>\n",
       "      <th>county_fp</th>\n",
       "      <th>countyName</th>\n",
       "      <th>fp_class_code</th>\n",
       "      <th>st_county_id_str</th>\n",
       "      <th>ST_tot_emp</th>\n",
       "    </tr>\n",
       "  </thead>\n",
       "  <tbody>\n",
       "    <tr>\n",
       "      <th>0</th>\n",
       "      <td>999</td>\n",
       "      <td>1</td>\n",
       "      <td>15</td>\n",
       "      <td>221111</td>\n",
       "      <td>0</td>\n",
       "      <td>0</td>\n",
       "      <td>0</td>\n",
       "      <td>1</td>\n",
       "      <td>99</td>\n",
       "      <td>221111</td>\n",
       "      <td>...</td>\n",
       "      <td>Hydroelectric Power Generation</td>\n",
       "      <td>Utilities</td>\n",
       "      <td>1015</td>\n",
       "      <td>AL</td>\n",
       "      <td>1</td>\n",
       "      <td>15</td>\n",
       "      <td>Calhoun County</td>\n",
       "      <td>H1</td>\n",
       "      <td>01015</td>\n",
       "      <td>305349</td>\n",
       "    </tr>\n",
       "    <tr>\n",
       "      <th>1</th>\n",
       "      <td>999</td>\n",
       "      <td>1</td>\n",
       "      <td>15</td>\n",
       "      <td>221115</td>\n",
       "      <td>0</td>\n",
       "      <td>0</td>\n",
       "      <td>0</td>\n",
       "      <td>1</td>\n",
       "      <td>99</td>\n",
       "      <td>221115</td>\n",
       "      <td>...</td>\n",
       "      <td>Wind Electric Power Generation</td>\n",
       "      <td>Utilities</td>\n",
       "      <td>1015</td>\n",
       "      <td>AL</td>\n",
       "      <td>1</td>\n",
       "      <td>15</td>\n",
       "      <td>Calhoun County</td>\n",
       "      <td>H1</td>\n",
       "      <td>01015</td>\n",
       "      <td>305349</td>\n",
       "    </tr>\n",
       "    <tr>\n",
       "      <th>2</th>\n",
       "      <td>999</td>\n",
       "      <td>1</td>\n",
       "      <td>15</td>\n",
       "      <td>221122</td>\n",
       "      <td>0</td>\n",
       "      <td>0</td>\n",
       "      <td>0</td>\n",
       "      <td>9</td>\n",
       "      <td>99</td>\n",
       "      <td>221122</td>\n",
       "      <td>...</td>\n",
       "      <td>Electric Power Distribution</td>\n",
       "      <td>Utilities</td>\n",
       "      <td>1015</td>\n",
       "      <td>AL</td>\n",
       "      <td>1</td>\n",
       "      <td>15</td>\n",
       "      <td>Calhoun County</td>\n",
       "      <td>H1</td>\n",
       "      <td>01015</td>\n",
       "      <td>305349</td>\n",
       "    </tr>\n",
       "    <tr>\n",
       "      <th>3</th>\n",
       "      <td>999</td>\n",
       "      <td>1</td>\n",
       "      <td>15</td>\n",
       "      <td>221210</td>\n",
       "      <td>0</td>\n",
       "      <td>0</td>\n",
       "      <td>0</td>\n",
       "      <td>1</td>\n",
       "      <td>99</td>\n",
       "      <td>221210</td>\n",
       "      <td>...</td>\n",
       "      <td>Natural Gas Distribution</td>\n",
       "      <td>Utilities</td>\n",
       "      <td>1015</td>\n",
       "      <td>AL</td>\n",
       "      <td>1</td>\n",
       "      <td>15</td>\n",
       "      <td>Calhoun County</td>\n",
       "      <td>H1</td>\n",
       "      <td>01015</td>\n",
       "      <td>305349</td>\n",
       "    </tr>\n",
       "    <tr>\n",
       "      <th>4</th>\n",
       "      <td>999</td>\n",
       "      <td>1</td>\n",
       "      <td>15</td>\n",
       "      <td>221310</td>\n",
       "      <td>0</td>\n",
       "      <td>0</td>\n",
       "      <td>0</td>\n",
       "      <td>1</td>\n",
       "      <td>99</td>\n",
       "      <td>221310</td>\n",
       "      <td>...</td>\n",
       "      <td>Water Supply and Irrigation Systems</td>\n",
       "      <td>Utilities</td>\n",
       "      <td>1015</td>\n",
       "      <td>AL</td>\n",
       "      <td>1</td>\n",
       "      <td>15</td>\n",
       "      <td>Calhoun County</td>\n",
       "      <td>H1</td>\n",
       "      <td>01015</td>\n",
       "      <td>305349</td>\n",
       "    </tr>\n",
       "  </tbody>\n",
       "</table>\n",
       "<p>5 rows × 24 columns</p>\n",
       "</div>"
      ],
      "text/plain": [
       "   CSA  ST  COUNTY NAICS2012  EMP  RCPTOT  PAYANN  ESTAB OPTAX  NAICS2012.1  \\\n",
       "0  999   1      15    221111    0       0       0      1    99       221111   \n",
       "1  999   1      15    221115    0       0       0      1    99       221115   \n",
       "2  999   1      15    221122    0       0       0      9    99       221122   \n",
       "3  999   1      15    221210    0       0       0      1    99       221210   \n",
       "4  999   1      15    221310    0       0       0      1    99       221310   \n",
       "\n",
       "      ...                             Industry_Desc  Industry_Group  \\\n",
       "0     ...           Hydroelectric Power Generation        Utilities   \n",
       "1     ...           Wind Electric Power Generation        Utilities   \n",
       "2     ...              Electric Power Distribution        Utilities   \n",
       "3     ...                 Natural Gas Distribution        Utilities   \n",
       "4     ...      Water Supply and Irrigation Systems        Utilities   \n",
       "\n",
       "   state_county_code state_abbrev state_fp county_fp      countyName  \\\n",
       "0               1015           AL        1        15  Calhoun County   \n",
       "1               1015           AL        1        15  Calhoun County   \n",
       "2               1015           AL        1        15  Calhoun County   \n",
       "3               1015           AL        1        15  Calhoun County   \n",
       "4               1015           AL        1        15  Calhoun County   \n",
       "\n",
       "  fp_class_code  st_county_id_str  ST_tot_emp  \n",
       "0            H1             01015      305349  \n",
       "1            H1             01015      305349  \n",
       "2            H1             01015      305349  \n",
       "3            H1             01015      305349  \n",
       "4            H1             01015      305349  \n",
       "\n",
       "[5 rows x 24 columns]"
      ]
     },
     "execution_count": 66,
     "metadata": {},
     "output_type": "execute_result"
    },
    {
     "data": {
      "image/png": "[encoded data removed]",
      "text/plain": [
       "<matplotlib.figure.Figure at 0x7fae4cfca650>"
      ]
     },
     "metadata": {},
     "output_type": "display_data"
    }
   ],
   "source": [
    "workforce_by_state=by_ST.sum()\n",
    "p1=workforce_by_state.plot(kind='bar')\n",
    "workforce_by_state=workforce_by_state.reset_index()\n",
    "workforce_by_state.columns=['state_abbrev', 'ST_tot_emp']\n",
    "workforce_by_state.head()\n",
    "industryDF=pd.merge(industryDF, workforce_by_state, on='state_abbrev' )\n",
    "industryDF.head()"
   ]
  },
  {
   "cell_type": "code",
   "execution_count": null,
   "metadata": {
    "collapsed": false
   },
   "outputs": [],
   "source": []
  },
  {
   "cell_type": "code",
   "execution_count": 67,
   "metadata": {
    "collapsed": false
   },
   "outputs": [],
   "source": [
    "emp_by_industry=industryDF[['Industry_Group', 'EMP']].groupby('Industry_Group')"
   ]
  },
  {
   "cell_type": "code",
   "execution_count": 68,
   "metadata": {
    "collapsed": false
   },
   "outputs": [
    {
     "data": {
      "text/html": [
       "<div>\n",
       "<table border=\"1\" class=\"dataframe\">\n",
       "  <thead>\n",
       "    <tr style=\"text-align: right;\">\n",
       "      <th></th>\n",
       "      <th>Industry_Group</th>\n",
       "      <th>Industry_tot_emp</th>\n",
       "    </tr>\n",
       "  </thead>\n",
       "  <tbody>\n",
       "    <tr>\n",
       "      <th>0</th>\n",
       "      <td>Accommodation and Food Services</td>\n",
       "      <td>7896691</td>\n",
       "    </tr>\n",
       "    <tr>\n",
       "      <th>1</th>\n",
       "      <td>Administrative and Support and Waste Manag...</td>\n",
       "      <td>2873452</td>\n",
       "    </tr>\n",
       "    <tr>\n",
       "      <th>2</th>\n",
       "      <td>Arts, Entertainment, and Recreation</td>\n",
       "      <td>1037027</td>\n",
       "    </tr>\n",
       "    <tr>\n",
       "      <th>3</th>\n",
       "      <td>Educational Services</td>\n",
       "      <td>403788</td>\n",
       "    </tr>\n",
       "    <tr>\n",
       "      <th>4</th>\n",
       "      <td>Finance and Insurance</td>\n",
       "      <td>2035837</td>\n",
       "    </tr>\n",
       "  </tbody>\n",
       "</table>\n",
       "</div>"
      ],
      "text/plain": [
       "                                      Industry_Group  Industry_tot_emp\n",
       "0                    Accommodation and Food Services           7896691\n",
       "1      Administrative and Support and Waste Manag...           2873452\n",
       "2                Arts, Entertainment, and Recreation           1037027\n",
       "3                               Educational Services            403788\n",
       "4                              Finance and Insurance           2035837"
      ]
     },
     "execution_count": 68,
     "metadata": {},
     "output_type": "execute_result"
    },
    {
     "data": {
      "image/png": "[encoded data removed]",
      "text/plain": [
       "<matplotlib.figure.Figure at 0x7fae43824990>"
      ]
     },
     "metadata": {},
     "output_type": "display_data"
    }
   ],
   "source": [
    "workforce_by_industry=emp_by_industry.sum()\n",
    "workforce_by_industry.plot(kind='bar')\n",
    "workforce_by_industry=workforce_by_industry.reset_index()\n",
    "workforce_by_industry.columns=['Industry_Group', 'Industry_tot_emp']\n",
    "workforce_by_industry.head()"
   ]
  },
  {
   "cell_type": "code",
   "execution_count": 69,
   "metadata": {
    "collapsed": false
   },
   "outputs": [
    {
     "data": {
      "text/html": [
       "<div>\n",
       "<table border=\"1\" class=\"dataframe\">\n",
       "  <thead>\n",
       "    <tr style=\"text-align: right;\">\n",
       "      <th></th>\n",
       "      <th>CSA</th>\n",
       "      <th>ST</th>\n",
       "      <th>COUNTY</th>\n",
       "      <th>NAICS2012</th>\n",
       "      <th>EMP</th>\n",
       "      <th>RCPTOT</th>\n",
       "      <th>PAYANN</th>\n",
       "      <th>ESTAB</th>\n",
       "      <th>OPTAX</th>\n",
       "      <th>NAICS2012.1</th>\n",
       "      <th>...</th>\n",
       "      <th>Industry_Desc</th>\n",
       "      <th>Industry_Group</th>\n",
       "      <th>state_county_code</th>\n",
       "      <th>state_abbrev</th>\n",
       "      <th>state_fp</th>\n",
       "      <th>county_fp</th>\n",
       "      <th>countyName</th>\n",
       "      <th>fp_class_code</th>\n",
       "      <th>st_county_id_str</th>\n",
       "      <th>ST_tot_emp</th>\n",
       "    </tr>\n",
       "  </thead>\n",
       "  <tbody>\n",
       "    <tr>\n",
       "      <th>360862</th>\n",
       "      <td>999</td>\n",
       "      <td>35</td>\n",
       "      <td>3</td>\n",
       "      <td>423940</td>\n",
       "      <td>0</td>\n",
       "      <td>0</td>\n",
       "      <td>0</td>\n",
       "      <td>1</td>\n",
       "      <td>10</td>\n",
       "      <td>423940</td>\n",
       "      <td>...</td>\n",
       "      <td>Jewelry, Watch, Precious Stone, and Precious M...</td>\n",
       "      <td>Wholesale Trade</td>\n",
       "      <td>35003</td>\n",
       "      <td>NM</td>\n",
       "      <td>35</td>\n",
       "      <td>3</td>\n",
       "      <td>Catron County</td>\n",
       "      <td>H1</td>\n",
       "      <td>35003</td>\n",
       "      <td>8014</td>\n",
       "    </tr>\n",
       "    <tr>\n",
       "      <th>360863</th>\n",
       "      <td>999</td>\n",
       "      <td>35</td>\n",
       "      <td>53</td>\n",
       "      <td>424490</td>\n",
       "      <td>0</td>\n",
       "      <td>0</td>\n",
       "      <td>0</td>\n",
       "      <td>1</td>\n",
       "      <td>10</td>\n",
       "      <td>424490</td>\n",
       "      <td>...</td>\n",
       "      <td>Other Grocery and Related Products Merchant Wh...</td>\n",
       "      <td>Wholesale Trade</td>\n",
       "      <td>35053</td>\n",
       "      <td>NM</td>\n",
       "      <td>35</td>\n",
       "      <td>53</td>\n",
       "      <td>Socorro County</td>\n",
       "      <td>H1</td>\n",
       "      <td>35053</td>\n",
       "      <td>8014</td>\n",
       "    </tr>\n",
       "    <tr>\n",
       "      <th>360864</th>\n",
       "      <td>999</td>\n",
       "      <td>35</td>\n",
       "      <td>19</td>\n",
       "      <td>424520</td>\n",
       "      <td>0</td>\n",
       "      <td>0</td>\n",
       "      <td>0</td>\n",
       "      <td>1</td>\n",
       "      <td>10</td>\n",
       "      <td>424520</td>\n",
       "      <td>...</td>\n",
       "      <td>Livestock Merchant Wholesalers</td>\n",
       "      <td>Wholesale Trade</td>\n",
       "      <td>35019</td>\n",
       "      <td>NM</td>\n",
       "      <td>35</td>\n",
       "      <td>19</td>\n",
       "      <td>Guadalupe County</td>\n",
       "      <td>H1</td>\n",
       "      <td>35019</td>\n",
       "      <td>8014</td>\n",
       "    </tr>\n",
       "    <tr>\n",
       "      <th>360865</th>\n",
       "      <td>999</td>\n",
       "      <td>35</td>\n",
       "      <td>23</td>\n",
       "      <td>424710</td>\n",
       "      <td>0</td>\n",
       "      <td>0</td>\n",
       "      <td>0</td>\n",
       "      <td>1</td>\n",
       "      <td>10</td>\n",
       "      <td>424710</td>\n",
       "      <td>...</td>\n",
       "      <td>Petroleum Bulk Stations and Terminals</td>\n",
       "      <td>Wholesale Trade</td>\n",
       "      <td>35023</td>\n",
       "      <td>NM</td>\n",
       "      <td>35</td>\n",
       "      <td>23</td>\n",
       "      <td>Hidalgo County</td>\n",
       "      <td>H1</td>\n",
       "      <td>35023</td>\n",
       "      <td>8014</td>\n",
       "    </tr>\n",
       "    <tr>\n",
       "      <th>360866</th>\n",
       "      <td>999</td>\n",
       "      <td>35</td>\n",
       "      <td>23</td>\n",
       "      <td>424920</td>\n",
       "      <td>0</td>\n",
       "      <td>0</td>\n",
       "      <td>0</td>\n",
       "      <td>1</td>\n",
       "      <td>10</td>\n",
       "      <td>424920</td>\n",
       "      <td>...</td>\n",
       "      <td>Book, Periodical, and Newspaper Merchant Whole...</td>\n",
       "      <td>Wholesale Trade</td>\n",
       "      <td>35023</td>\n",
       "      <td>NM</td>\n",
       "      <td>35</td>\n",
       "      <td>23</td>\n",
       "      <td>Hidalgo County</td>\n",
       "      <td>H1</td>\n",
       "      <td>35023</td>\n",
       "      <td>8014</td>\n",
       "    </tr>\n",
       "  </tbody>\n",
       "</table>\n",
       "<p>5 rows × 24 columns</p>\n",
       "</div>"
      ],
      "text/plain": [
       "        CSA  ST  COUNTY NAICS2012  EMP  RCPTOT  PAYANN  ESTAB OPTAX  \\\n",
       "360862  999  35       3    423940    0       0       0      1    10   \n",
       "360863  999  35      53    424490    0       0       0      1    10   \n",
       "360864  999  35      19    424520    0       0       0      1    10   \n",
       "360865  999  35      23    424710    0       0       0      1    10   \n",
       "360866  999  35      23    424920    0       0       0      1    10   \n",
       "\n",
       "        NAICS2012.1     ...      \\\n",
       "360862       423940     ...       \n",
       "360863       424490     ...       \n",
       "360864       424520     ...       \n",
       "360865       424710     ...       \n",
       "360866       424920     ...       \n",
       "\n",
       "                                            Industry_Desc  \\\n",
       "360862  Jewelry, Watch, Precious Stone, and Precious M...   \n",
       "360863  Other Grocery and Related Products Merchant Wh...   \n",
       "360864                    Livestock Merchant Wholesalers    \n",
       "360865             Petroleum Bulk Stations and Terminals    \n",
       "360866  Book, Periodical, and Newspaper Merchant Whole...   \n",
       "\n",
       "             Industry_Group  state_county_code state_abbrev state_fp  \\\n",
       "360862      Wholesale Trade              35003           NM       35   \n",
       "360863      Wholesale Trade              35053           NM       35   \n",
       "360864      Wholesale Trade              35019           NM       35   \n",
       "360865      Wholesale Trade              35023           NM       35   \n",
       "360866      Wholesale Trade              35023           NM       35   \n",
       "\n",
       "       county_fp        countyName fp_class_code  st_county_id_str  ST_tot_emp  \n",
       "360862         3     Catron County            H1             35003        8014  \n",
       "360863        53    Socorro County            H1             35053        8014  \n",
       "360864        19  Guadalupe County            H1             35019        8014  \n",
       "360865        23    Hidalgo County            H1             35023        8014  \n",
       "360866        23    Hidalgo County            H1             35023        8014  \n",
       "\n",
       "[5 rows x 24 columns]"
      ]
     },
     "execution_count": 69,
     "metadata": {},
     "output_type": "execute_result"
    }
   ],
   "source": [
    "industryDF.tail()"
   ]
  },
  {
   "cell_type": "code",
   "execution_count": 70,
   "metadata": {
    "collapsed": false
   },
   "outputs": [],
   "source": [
    "industryDF=pd.merge(industryDF, workforce_by_industry, on='Industry_Group' )"
   ]
  },
  {
   "cell_type": "code",
   "execution_count": 71,
   "metadata": {
    "collapsed": false
   },
   "outputs": [
    {
     "data": {
      "text/html": [
       "<div>\n",
       "<table border=\"1\" class=\"dataframe\">\n",
       "  <thead>\n",
       "    <tr style=\"text-align: right;\">\n",
       "      <th></th>\n",
       "      <th>state_abbrev</th>\n",
       "      <th>ST_tot_emp</th>\n",
       "    </tr>\n",
       "  </thead>\n",
       "  <tbody>\n",
       "    <tr>\n",
       "      <th>0</th>\n",
       "      <td>AK</td>\n",
       "      <td>112359</td>\n",
       "    </tr>\n",
       "    <tr>\n",
       "      <th>1</th>\n",
       "      <td>AL</td>\n",
       "      <td>305349</td>\n",
       "    </tr>\n",
       "    <tr>\n",
       "      <th>2</th>\n",
       "      <td>AR</td>\n",
       "      <td>19109</td>\n",
       "    </tr>\n",
       "    <tr>\n",
       "      <th>3</th>\n",
       "      <td>AZ</td>\n",
       "      <td>1271948</td>\n",
       "    </tr>\n",
       "    <tr>\n",
       "      <th>4</th>\n",
       "      <td>CA</td>\n",
       "      <td>11393870</td>\n",
       "    </tr>\n",
       "  </tbody>\n",
       "</table>\n",
       "</div>"
      ],
      "text/plain": [
       "  state_abbrev  ST_tot_emp\n",
       "0           AK      112359\n",
       "1           AL      305349\n",
       "2           AR       19109\n",
       "3           AZ     1271948\n",
       "4           CA    11393870"
      ]
     },
     "execution_count": 71,
     "metadata": {},
     "output_type": "execute_result"
    }
   ],
   "source": [
    "\n",
    "# workforce_by_state.columns=['index', 'state_abbrev', 'ST_tot_emp']\n",
    "workforce_by_state.head()"
   ]
  },
  {
   "cell_type": "code",
   "execution_count": null,
   "metadata": {
    "collapsed": true
   },
   "outputs": [],
   "source": []
  },
  {
   "cell_type": "code",
   "execution_count": 72,
   "metadata": {
    "collapsed": false
   },
   "outputs": [
    {
     "data": {
      "text/plain": [
       "Index([u'CSA', u'ST', u'COUNTY', u'NAICS2012', u'EMP', u'RCPTOT', u'PAYANN',\n",
       "       u'ESTAB', u'OPTAX', u'NAICS2012.1', u'state', u'county', u'Unnamed: 12',\n",
       "       u'NAICS_2digit', u'Industry_Desc', u'Industry_Group',\n",
       "       u'state_county_code', u'state_abbrev', u'state_fp', u'county_fp',\n",
       "       u'countyName', u'fp_class_code', u'st_county_id_str', u'ST_tot_emp',\n",
       "       u'Industry_tot_emp'],\n",
       "      dtype='object')"
      ]
     },
     "execution_count": 72,
     "metadata": {},
     "output_type": "execute_result"
    }
   ],
   "source": [
    "industryDF.columns"
   ]
  },
  {
   "cell_type": "code",
   "execution_count": 73,
   "metadata": {
    "collapsed": false
   },
   "outputs": [],
   "source": [
    "by_both=industryDF[['ST','Industry_Group', 'EMP']].groupby(['ST','Industry_Group'])"
   ]
  },
  {
   "cell_type": "code",
   "execution_count": 74,
   "metadata": {
    "collapsed": false
   },
   "outputs": [],
   "source": [
    "output = open('industryDF.pkl', 'wb')\n",
    "pickle.dump(industryDF, output)\n",
    "output.close()"
   ]
  },
  {
   "cell_type": "code",
   "execution_count": 75,
   "metadata": {
    "collapsed": true
   },
   "outputs": [],
   "source": [
    "emp_by_county=industryDF[['state_county_code', 'EMP']].groupby('state_county_code')"
   ]
  },
  {
   "cell_type": "code",
   "execution_count": 76,
   "metadata": {
    "collapsed": false
   },
   "outputs": [],
   "source": [
    "workforce_by_county=emp_by_county.sum()"
   ]
  },
  {
   "cell_type": "code",
   "execution_count": 77,
   "metadata": {
    "collapsed": false
   },
   "outputs": [],
   "source": [
    "workforce_by_county=emp_by_county.sum()\n",
    "# workforce_by_county.plot(kind='bar')\n",
    "workforce_by_county=workforce_by_county.reset_index()\n",
    "workforce_by_county.columns=['state_county_code', 'county_tot_emp']"
   ]
  },
  {
   "cell_type": "code",
   "execution_count": 78,
   "metadata": {
    "collapsed": false
   },
   "outputs": [
    {
     "data": {
      "text/html": [
       "<div>\n",
       "<table border=\"1\" class=\"dataframe\">\n",
       "  <thead>\n",
       "    <tr style=\"text-align: right;\">\n",
       "      <th></th>\n",
       "      <th>state_county_code</th>\n",
       "      <th>county_tot_emp</th>\n",
       "    </tr>\n",
       "  </thead>\n",
       "  <tbody>\n",
       "    <tr>\n",
       "      <th>0</th>\n",
       "      <td>1001</td>\n",
       "      <td>1241</td>\n",
       "    </tr>\n",
       "    <tr>\n",
       "      <th>1</th>\n",
       "      <td>1003</td>\n",
       "      <td>19168</td>\n",
       "    </tr>\n",
       "    <tr>\n",
       "      <th>2</th>\n",
       "      <td>1005</td>\n",
       "      <td>1087</td>\n",
       "    </tr>\n",
       "    <tr>\n",
       "      <th>3</th>\n",
       "      <td>1007</td>\n",
       "      <td>191</td>\n",
       "    </tr>\n",
       "    <tr>\n",
       "      <th>4</th>\n",
       "      <td>1009</td>\n",
       "      <td>613</td>\n",
       "    </tr>\n",
       "  </tbody>\n",
       "</table>\n",
       "</div>"
      ],
      "text/plain": [
       "   state_county_code  county_tot_emp\n",
       "0               1001            1241\n",
       "1               1003           19168\n",
       "2               1005            1087\n",
       "3               1007             191\n",
       "4               1009             613"
      ]
     },
     "execution_count": 78,
     "metadata": {},
     "output_type": "execute_result"
    }
   ],
   "source": [
    "workforce_by_county.head()"
   ]
  },
  {
   "cell_type": "code",
   "execution_count": null,
   "metadata": {
    "collapsed": true
   },
   "outputs": [],
   "source": []
  }
 ],
 "metadata": {
  "kernelspec": {
   "display_name": "Python 2",
   "language": "python",
   "name": "python2"
  },
  "language_info": {
   "codemirror_mode": {
    "name": "ipython",
    "version": 2
   },
   "file_extension": ".py",
   "mimetype": "text/x-python",
   "name": "python",
   "nbconvert_exporter": "python",
   "pygments_lexer": "ipython2",
   "version": "2.7.10"
  }
 },
 "nbformat": 4,
 "nbformat_minor": 0
}
