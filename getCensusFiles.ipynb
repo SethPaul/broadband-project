{
 "cells": [
  {
   "cell_type": "code",
   "execution_count": null,
   "metadata": {
    "collapsed": true
   },
   "outputs": [],
   "source": [
    "import requests\n",
    "from bs4 import BeautifulSoup\n",
    "import re\n",
    "import urllib \n",
    "import zipfile\n",
    "import os\n",
    "import sys"
   ]
  },
  {
   "cell_type": "code",
   "execution_count": null,
   "metadata": {
    "collapsed": true
   },
   "outputs": [],
   "source": [
    "## Get county industries files\n",
    "years= range(1986, 2014)\n",
    "#ftp://ftp.census.gov/econ2012/CBP_CSV/cbp12co.zip\n",
    "#ftp://ftp.census.gov/Econ2001_And_Earlier/CBP_CSV/cbp96co.zip\n",
    "\n",
    "for year in years:\n",
    "    try:\n",
    "        year_str=str(year)\n",
    "        year_list=list(year_str)\n",
    "        if year>2001:\n",
    "            url= 'ftp://ftp.census.gov/econ' +year_str+'/CBP_CSV/cbp'+ year_list[2] + year_list[3]+'co.zip' \n",
    "        elif year<=2001: \n",
    "            url= 'ftp://ftp.census.gov/Econ2001_And_Earlier/CBP_CSV/cbp'+ year_list[2] + year_list[3]+'co.zip' \n",
    "        print url\n",
    "        fileName=year_str+'countyB.zip'\n",
    "        urllib.urlretrieve(url, 'tempZipFile')\n",
    "        with zipfile.ZipFile('tempZipFile', \"r\") as z:\n",
    "            out_dir=os.getcwd()+'/businessData/'\n",
    "            if not os.path.isdir(out_dir):\n",
    "                os.mkdir(out_dir)\n",
    "            z.extractall(out_dir)\n",
    "        print fileName[:-4]+' saved'\n",
    "        \n",
    "    except:\n",
    "        print \"Unexpected error:\", sys.exc_info()[0]\n",
    "        print fileName[:-4]+' not saved'"
   ]
  }
 ],
 "metadata": {
  "kernelspec": {
   "display_name": "Python 2",
   "language": "python",
   "name": "python2"
  },
  "language_info": {
   "codemirror_mode": {
    "name": "ipython",
    "version": 2
   },
   "file_extension": ".py",
   "mimetype": "text/x-python",
   "name": "python",
   "nbconvert_exporter": "python",
   "pygments_lexer": "ipython2",
   "version": "2.7.10"
  }
 },
 "nbformat": 4,
 "nbformat_minor": 0
}
